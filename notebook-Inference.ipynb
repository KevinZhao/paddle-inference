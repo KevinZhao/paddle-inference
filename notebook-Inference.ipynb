{
 "cells": [
  {
   "cell_type": "markdown",
   "id": "3fa486fb",
   "metadata": {},
   "source": [
    "# PaddleOCR Inference"
   ]
  },
  {
   "cell_type": "code",
   "execution_count": null,
   "id": "81fe725f",
   "metadata": {},
   "outputs": [],
   "source": [
    "!cat Dockerfile"
   ]
  },
  {
   "cell_type": "code",
   "execution_count": null,
   "id": "68d207d6",
   "metadata": {},
   "outputs": [],
   "source": [
    "#first build docker\n",
    "!sh build_and_push.sh"
   ]
  },
  {
   "cell_type": "markdown",
   "id": "f3b6f694",
   "metadata": {},
   "source": [
    " # Inference"
   ]
  },
  {
   "cell_type": "markdown",
   "id": "7036ba50",
   "metadata": {
    "jupyter": {
     "source_hidden": true
    }
   },
   "source": [
    "A trained model does nothing on its own. We now want to use the model to perform inference. For this example, that means predicting the topic mixture representing a given document.This section involves several steps,\n",
    "Create Model \n",
    "- Create model for the training outputCreate Endpoint Configuration \n",
    "- Create a configuration defining an endpoint.Create Endpoint \n",
    "- Use the configuration to create an inference endpoint.Perform Inference \n",
    "- Perform inference on some input data using the endpoint."
   ]
  },
  {
   "cell_type": "markdown",
   "id": "5ff7a42e",
   "metadata": {},
   "source": [
    "## deploy model\n",
    "we now create a SageMaker Model from the training output. Using the model we can create an Endpoint Configuration.\n"
   ]
  },
  {
   "cell_type": "code",
   "execution_count": 1,
   "id": "b1d56d88",
   "metadata": {},
   "outputs": [
    {
     "name": "stdout",
     "output_type": "stream",
     "text": [
      "sagemaker.config INFO - Not applying SDK defaults from location: /etc/xdg/sagemaker/config.yaml\n",
      "sagemaker.config INFO - Not applying SDK defaults from location: /home/sagemaker-user/.config/sagemaker/config.yaml\n",
      "paddle-v0\n",
      "arn:aws:sagemaker:us-west-2:373127939256:model/paddle-v0\n",
      "CPU times: user 1.23 s, sys: 113 ms, total: 1.34 s\n",
      "Wall time: 1.99 s\n"
     ]
    }
   ],
   "source": [
    "%%time\n",
    "\n",
    "import boto3\n",
    "from time import gmtime, strftime\n",
    "\n",
    "#sage = boto3.Session().client(service_name='sagemaker') \n",
    "sage = boto3.client('sagemaker')\n",
    "\n",
    "from sagemaker import get_execution_role\n",
    "role = get_execution_role()\n",
    "\n",
    "model_name=\"paddle-v0\"\n",
    "print(model_name)\n",
    "\n",
    "#info = sage.describe_training_job(TrainingJobName=train.latest_training_job.name)\n",
    "#model_data = info['ModelArtifacts']['S3ModelArtifacts']\n",
    "\n",
    "#model_data = train.model_data\n",
    "#print(model_data)\n",
    "\n",
    "account = boto3.client('sts').get_caller_identity()['Account']\n",
    "region = boto3.Session().region_name\n",
    "\n",
    "image = \"{}.dkr.ecr.{}.amazonaws.com/paddle\".format(account, region)\n",
    "\n",
    "# hosting_image = \"847380964353.dkr.ecr.us-west-2.amazonaws.com/paddle\"\n",
    "primary_container = {\n",
    "    'Image': image,\n",
    "    #'ModelDataUrl': model_data,\n",
    "}\n",
    "\n",
    "create_model_response = sage.create_model(\n",
    "    ModelName = model_name,\n",
    "    ExecutionRoleArn = role,\n",
    "    PrimaryContainer = primary_container)\n",
    "\n",
    "print(create_model_response['ModelArn'])"
   ]
  },
  {
   "cell_type": "markdown",
   "id": "91430bd1",
   "metadata": {},
   "source": [
    "## Create Endpoint Configuration\n",
    "#At launch, we will support configuring REST endpoints in hosting with multiple models, e.g. for A/B testing purposes. In order to support this, customers create an endpoint configuration, that describes the distribution of traffic across the models, whether split, shadowed, or sampled in some way.In addition, the endpoint configuration describes the instance type required for model deployment, and at launch will describe the autoscaling configuration.\n"
   ]
  },
  {
   "cell_type": "code",
   "execution_count": 2,
   "id": "9d294e17",
   "metadata": {},
   "outputs": [
    {
     "name": "stdout",
     "output_type": "stream",
     "text": [
      "Endpoint configuration name: paddle-epc--2024-10-13-11-31-44\n",
      "Endpoint configuration arn:  arn:aws:sagemaker:us-west-2:373127939256:endpoint-config/paddle-epc--2024-10-13-11-31-44\n"
     ]
    }
   ],
   "source": [
    "from time import gmtime, strftime\n",
    "import time \n",
    "\n",
    "job_name_prefix = \"paddle\"\n",
    "\n",
    "timestamp = time.strftime('-%Y-%m-%d-%H-%M-%S', time.gmtime())\n",
    "endpoint_config_name = job_name_prefix + '-epc-' + timestamp\n",
    "endpoint_config_response = sage.create_endpoint_config(\n",
    "    EndpointConfigName = endpoint_config_name,\n",
    "    ProductionVariants=[{\n",
    "        'InstanceType':'ml.g4dn.xlarge',\n",
    "        'InitialInstanceCount':1,\n",
    "        'ModelName':model_name,\n",
    "        'VariantName':'AllTraffic'}])\n",
    "\n",
    "print('Endpoint configuration name: {}'.format(endpoint_config_name))\n",
    "print('Endpoint configuration arn:  {}'.format(endpoint_config_response['EndpointConfigArn']))"
   ]
  },
  {
   "cell_type": "markdown",
   "id": "2857b085",
   "metadata": {},
   "source": [
    "##  Create Endpoint\n",
    "Lastly, the customer creates the endpoint that serves up the model, through specifying the name and configuration defined above. The end result is an endpoint that can be validated and incorporated into production applications. This takes 9-11 minutes to complete."
   ]
  },
  {
   "cell_type": "code",
   "execution_count": 3,
   "id": "2ea4c0a1",
   "metadata": {},
   "outputs": [
    {
     "name": "stdout",
     "output_type": "stream",
     "text": [
      "Endpoint name: paddle-ep--2024-10-13-11-31-50\n",
      "EndpointArn = arn:aws:sagemaker:us-west-2:373127939256:endpoint/paddle-ep--2024-10-13-11-31-50\n",
      "CPU times: user 1.97 ms, sys: 4.14 ms, total: 6.11 ms\n",
      "Wall time: 534 ms\n"
     ]
    }
   ],
   "source": [
    "%%time\n",
    "import time\n",
    "\n",
    "timestamp = time.strftime('-%Y-%m-%d-%H-%M-%S', time.gmtime())\n",
    "endpoint_name = job_name_prefix + '-ep-' + timestamp\n",
    "print('Endpoint name: {}'.format(endpoint_name))\n",
    "\n",
    "endpoint_params = {\n",
    "    'EndpointName': endpoint_name,\n",
    "    'EndpointConfigName': endpoint_config_name,\n",
    "}\n",
    "endpoint_response = sage.create_endpoint(**endpoint_params)\n",
    "print('EndpointArn = {}'.format(endpoint_response['EndpointArn']))"
   ]
  },
  {
   "cell_type": "markdown",
   "id": "79f98901",
   "metadata": {},
   "source": [
    " If you see the message, Endpoint creation ended with ```EndpointStatus = InService``` then congratulations! You now have a functioning inference endpoint. You can confirm the endpoint configuration and status by navigating to the \"Endpoints\" tab in the AWS SageMaker console.We will finally create a runtime object from which we can invoke the endpoint."
   ]
  },
  {
   "cell_type": "markdown",
   "id": "5a53dada",
   "metadata": {},
   "source": [
    "#  Perform Inference"
   ]
  },
  {
   "cell_type": "code",
   "execution_count": 4,
   "id": "e2c7ad69",
   "metadata": {},
   "outputs": [
    {
     "name": "stdout",
     "output_type": "stream",
     "text": [
      "{\"bucket\": \"sagemaker-us-west-2-373127939256\", \"image_uri\": \"DEMO-paddle-byo/test/1.jpg\", \"content_type\": \"application/json\"}\n",
      "{'label': [[[266.0, 7.0], [366.0, 7.0], [366.0, 27.0], [266.0, 27.0]]], 'confidences': [['重慈湾酱院', 0.7750508189201355]], 'bbox': [[[[10.0, 9.0], [115.0, 9.0], [115.0, 23.0], [10.0, 23.0]], ['弗教系湾露', 0.561428427696228]]], 'shape': [32, 373, 3]}\n",
      "CPU times: user 336 ms, sys: 8.98 ms, total: 345 ms\n",
      "Wall time: 5.31 s\n"
     ]
    }
   ],
   "source": [
    "%%time\n",
    "import boto3\n",
    "from botocore.config import Config\n",
    "from sagemaker.session import Session\n",
    "\n",
    "config = Config(\n",
    "    read_timeout=120,\n",
    "    retries={\n",
    "        'max_attempts': 0\n",
    "    }\n",
    ")\n",
    "\n",
    "#from boto3.session import Session\n",
    "import json\n",
    "\n",
    "sagemaker_session = Session()\n",
    "bucket = sagemaker_session.default_bucket()\n",
    "\n",
    "WORK_DIRECTORY = \"./input/data\"\n",
    "# S3 prefix\n",
    "prefix = \"DEMO-paddle-byo\"\n",
    "\n",
    "data_location = sagemaker_session.upload_data(WORK_DIRECTORY, key_prefix=prefix)\n",
    "\n",
    "#bucket = sess.default_bucket()\n",
    "image_uri = 'DEMO-paddle-byo/test/1.jpg'\n",
    "test_data = {\n",
    "    'bucket' : bucket,\n",
    "    'image_uri' : image_uri,\n",
    "    'content_type': \"application/json\",\n",
    "}\n",
    "payload = json.dumps(test_data)\n",
    "print(payload)\n",
    "\n",
    "sagemaker_runtime_client = boto3.client('sagemaker-runtime', config=config)\n",
    "#session = Session(sagemaker_runtime_client)\n",
    "\n",
    "#     runtime = session.client(\"runtime.sagemaker\",config=config)\n",
    "response = sagemaker_runtime_client.invoke_endpoint(\n",
    "    EndpointName=endpoint_name,\n",
    "    ContentType=\"application/json\",\n",
    "    Body=payload)\n",
    "\n",
    "result = json.loads(response[\"Body\"].read())\n",
    "print (result)"
   ]
  },
  {
   "cell_type": "markdown",
   "id": "46f82e07",
   "metadata": {},
   "source": [
    "# Clean up\n",
    "When we're done with the endpoint, we can just delete it and the backing instances will be released.  Run the following cell to delete the endpoint."
   ]
  },
  {
   "cell_type": "code",
   "execution_count": 5,
   "id": "c62066ca",
   "metadata": {},
   "outputs": [
    {
     "name": "stdout",
     "output_type": "stream",
     "text": [
      "paddle-ep--2024-10-13-11-31-50\n"
     ]
    },
    {
     "data": {
      "text/plain": [
       "{'ResponseMetadata': {'RequestId': '061c172e-4e83-46aa-847d-7db7946cd4b6',\n",
       "  'HTTPStatusCode': 200,\n",
       "  'HTTPHeaders': {'x-amzn-requestid': '061c172e-4e83-46aa-847d-7db7946cd4b6',\n",
       "   'content-type': 'application/x-amz-json-1.1',\n",
       "   'date': 'Sun, 13 Oct 2024 11:47:57 GMT',\n",
       "   'content-length': '0'},\n",
       "  'RetryAttempts': 0}}"
      ]
     },
     "execution_count": 5,
     "metadata": {},
     "output_type": "execute_result"
    }
   ],
   "source": [
    "import boto3\n",
    "sage = boto3.client('sagemaker')\n",
    "\n",
    "print(endpoint_name)\n",
    "sage.delete_endpoint(EndpointName=endpoint_name)\n",
    "sage.delete_endpoint_config(EndpointConfigName=endpoint_config_name)\n",
    "sage.delete_model(ModelName=model_name)"
   ]
  }
 ],
 "metadata": {
  "kernelspec": {
   "display_name": "Python 3 (ipykernel)",
   "language": "python",
   "name": "python3"
  },
  "language_info": {
   "codemirror_mode": {
    "name": "ipython",
    "version": 3
   },
   "file_extension": ".py",
   "mimetype": "text/x-python",
   "name": "python",
   "nbconvert_exporter": "python",
   "pygments_lexer": "ipython3",
   "version": "3.11.9"
  }
 },
 "nbformat": 4,
 "nbformat_minor": 5
}
